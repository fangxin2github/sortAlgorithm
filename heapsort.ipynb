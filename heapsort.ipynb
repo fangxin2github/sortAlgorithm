{
 "cells": [
  {
   "cell_type": "markdown",
   "id": "08e65558",
   "metadata": {},
   "source": [
    "# 利用heapq快速实现堆排序"
   ]
  },
  {
   "cell_type": "code",
   "execution_count": 1,
   "id": "21aefd7a",
   "metadata": {},
   "outputs": [],
   "source": [
    "import heapq"
   ]
  },
  {
   "cell_type": "code",
   "execution_count": 9,
   "id": "c399ab51",
   "metadata": {},
   "outputs": [],
   "source": [
    "def heapsort(nums):\n",
    "    heapq.heapify(nums)\n",
    "    \n",
    "    return [heapq.heappop(nums) for _ in range(len(nums))]"
   ]
  },
  {
   "cell_type": "code",
   "execution_count": 11,
   "id": "c026cf8c",
   "metadata": {},
   "outputs": [
    {
     "data": {
      "text/plain": [
       "[2, 4, 4, 5, 6, 8, 9, 10]"
      ]
     },
     "execution_count": 11,
     "metadata": {},
     "output_type": "execute_result"
    }
   ],
   "source": [
    "B = [10, 8, 4, 5, 2, 6, 4, 9]\n",
    "heapsort(B)"
   ]
  },
  {
   "cell_type": "code",
   "execution_count": null,
   "id": "9733af07",
   "metadata": {},
   "outputs": [],
   "source": []
  }
 ],
 "metadata": {
  "kernelspec": {
   "display_name": "Python 3 (ipykernel)",
   "language": "python",
   "name": "python3"
  },
  "language_info": {
   "codemirror_mode": {
    "name": "ipython",
    "version": 3
   },
   "file_extension": ".py",
   "mimetype": "text/x-python",
   "name": "python",
   "nbconvert_exporter": "python",
   "pygments_lexer": "ipython3",
   "version": "3.9.12"
  }
 },
 "nbformat": 4,
 "nbformat_minor": 5
}
