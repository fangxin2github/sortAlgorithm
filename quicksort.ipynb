{
 "cells": [
  {
   "cell_type": "markdown",
   "id": "aa169dbb",
   "metadata": {},
   "source": [
    "# 递归版快速排序"
   ]
  },
  {
   "cell_type": "markdown",
   "id": "37ecd77b",
   "metadata": {},
   "source": [
    "partition函数是精髓"
   ]
  },
  {
   "cell_type": "code",
   "execution_count": 15,
   "id": "1affe878",
   "metadata": {},
   "outputs": [],
   "source": [
    "def partition(A, p, r):\n",
    "    \"\"\"返回A[r]的原址位置，从0开始算起\"\"\"\n",
    "    x = A[r]\n",
    "    i = p - 1\n",
    "    for j in range(p, r):\n",
    "        if A[j] <= x:\n",
    "            i += 1\n",
    "            A[i], A[j] = A[j], A[i]\n",
    "    A[i+1], A[r] = A[r], A[i+1]\n",
    "    return i + 1\n",
    "\n",
    "\n",
    "def quicksort1(A, p, r):\n",
    "    \"\"\"快速排序算法\"\"\"\n",
    "    if p < r:\n",
    "        q = partition(A, p, r)\n",
    "        quicksort(A, p, q-1)\n",
    "        quicksort(A, q+1, r)"
   ]
  },
  {
   "cell_type": "code",
   "execution_count": 16,
   "id": "24b0784e",
   "metadata": {},
   "outputs": [
    {
     "data": {
      "text/plain": [
       "[2, 4, 4, 5, 6, 8, 9, 10]"
      ]
     },
     "execution_count": 16,
     "metadata": {},
     "output_type": "execute_result"
    }
   ],
   "source": [
    "B = [10, 8, 4, 5, 2, 6, 4, 9]\n",
    "quicksort1(B, 0, len(B)-1)\n",
    "B"
   ]
  },
  {
   "cell_type": "markdown",
   "id": "709c5592",
   "metadata": {},
   "source": [
    "# 非递归式快速排序"
   ]
  },
  {
   "cell_type": "code",
   "execution_count": 12,
   "id": "9f9c6098",
   "metadata": {},
   "outputs": [],
   "source": [
    "def quicksort2(nums):\n",
    "    n = len(nums)\n",
    "    if n < 2:\n",
    "        return nums\n",
    "    stack = [[0, n-1]]\n",
    "    while stack:\n",
    "        left, right = stack.pop()\n",
    "        if left < right:\n",
    "            q = partition(nums, left, right)\n",
    "            if q > left:\n",
    "                stack.append([left, q-1])\n",
    "            if q < right:\n",
    "                stack.append([q+1, right])\n",
    "    return nums"
   ]
  },
  {
   "cell_type": "code",
   "execution_count": 17,
   "id": "701f2287",
   "metadata": {},
   "outputs": [
    {
     "data": {
      "text/plain": [
       "[2, 4, 4, 5, 6, 8, 9, 10]"
      ]
     },
     "execution_count": 17,
     "metadata": {},
     "output_type": "execute_result"
    }
   ],
   "source": [
    "B = [10, 8, 4, 5, 2, 6, 4, 9]\n",
    "quicksort2(B)\n",
    "B"
   ]
  },
  {
   "cell_type": "code",
   "execution_count": null,
   "id": "acca0378",
   "metadata": {},
   "outputs": [],
   "source": []
  }
 ],
 "metadata": {
  "kernelspec": {
   "display_name": "Python 3 (ipykernel)",
   "language": "python",
   "name": "python3"
  },
  "language_info": {
   "codemirror_mode": {
    "name": "ipython",
    "version": 3
   },
   "file_extension": ".py",
   "mimetype": "text/x-python",
   "name": "python",
   "nbconvert_exporter": "python",
   "pygments_lexer": "ipython3",
   "version": "3.9.12"
  }
 },
 "nbformat": 4,
 "nbformat_minor": 5
}
